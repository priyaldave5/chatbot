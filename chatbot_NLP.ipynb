{
 "cells": [
  {
   "cell_type": "code",
   "execution_count": 54,
   "metadata": {},
   "outputs": [
    {
     "name": "stderr",
     "output_type": "stream",
     "text": [
      "[nltk_data] Downloading package punkt to\n",
      "[nltk_data]     C:\\Users\\91942\\AppData\\Roaming\\nltk_data...\n",
      "[nltk_data]   Package punkt is already up-to-date!\n"
     ]
    }
   ],
   "source": [
    "import os\n",
    "import nltk\n",
    "import ssl\n",
    "import streamlit as st\n",
    "import random\n",
    "from sklearn.feature_extraction.text import TfidfVectorizer\n",
    "from sklearn.linear_model import LogisticRegression\n",
    "\n",
    "ssl._create_default_https_context = ssl._create_unverified_context\n",
    "nltk.data.path.append(os.path.abspath(\"nltk_data\"))\n",
    "nltk.download('punkt')\n",
    "vectorizer = TfidfVectorizer()\n",
    "a = LogisticRegression(random_state=0, max_iter=10000)\n",
    "\n",
    "tags = []\n",
    "patterns = []\n",
    "for intent in intents:\n",
    "    for pattern in intent['patterns']:\n",
    "        tags.append(intent['tag'])\n",
    "        patterns.append(pattern)\n",
    "\n",
    "x = vectorizer.fit_transform(patterns)\n",
    "y = tags\n",
    "a.fit(x, y)\n",
    "def chatbot(p):\n",
    "    p = vectorizer.transform([p])\n",
    "    tag = a.predict(p)[0]\n",
    "    for intent in intents:\n",
    "        if intent['tag'] == tag:\n",
    "            response = random.choice(intent['responses'])\n",
    "            return response\n",
    "          \n"
   ]
  },
  {
   "cell_type": "code",
   "execution_count": 55,
   "metadata": {},
   "outputs": [],
   "source": [
    "intents=[\n",
    "    {\n",
    "     \"tag\": \"name\",\n",
    "     \"patterns\": [\"What's your name\",\"Do you have a name\",\"What should I call you\" ],\n",
    "     \"responses\": [ \"You can call me Chatbot.\", \"My name is Chatbot.\"]\n",
    "    },\n",
    "    {\n",
    "        \"tag\":\"temperature\",\n",
    "     \"patterns\":[\"what is temperature around me\",\"temperature of city\"],\n",
    "     \"responses\": [\"to check temperature you can use google\", \"I can't provide imformation about temperature\"]\n",
    "    },\n",
    "   {\n",
    "     \"tag\":\"Identity\",\n",
    "     \"patterns\":[\"Who are you\",\"What's intresting about you\"],\n",
    "     \"responses\": [\"I am a chatbot\", \"I will interact and guide you\", \"I can answer to your every question\"]\n",
    "   },\n",
    "     {\n",
    "        \"tag\": \"time\",\n",
    "        \"patterns\": [\"What's the time\",\"Can you tell me the time\"],\n",
    "        \"responses\": [\"I'm sorry, but I don't have access to real-time information like the current time.\",\"You can check the time on your device or use a clock.\"]\n",
    "     },\n",
    "   {\n",
    "     \"tag\": \"Comparision\",\n",
    "      \"patterns\": [\"Which one is better\", \"either first option is good or second\", \"Which of the following is better to purchase\"],\n",
    "      \"responses\": [\"Both are best\", \"You can choose anyone accourding to your choice .\", \"Both gives great performance\"]\n",
    "    },\n",
    "   {\n",
    "      \"tag\": \"Hospital\",\n",
    "        \"patterns\": [\"Is there any hospital in my area\", \"Treatment Centres \", \"Doctors around\", \"Health cure near me\",\"Medical Stores \"],\n",
    "        \"responses\": [\"Your can use google map to get imformation\", \"You can call 108 or 102 for help\"]\n",
    "   },\n",
    "   {\n",
    "        \"tag\": \"greeting\",\n",
    "        \"patterns\": [\"Hi\", \"Hello\", \"Hey\", \"How are you\", \"What's up\"],\n",
    "        \"responses\": [\"Hi there\", \"Hello\", \"Hey\", \"I'm fine, thank you\", \"Nothing much\"]\n",
    "    },\n",
    "    {\n",
    "        \"tag\": \"bye\",\n",
    "        \"patterns\": [\"Bye\", \"See you later\", \"Goodbye\", \"Take care\"],\n",
    "        \"responses\": [\"Goodbye\", \"See you later\", \"Take care\"]\n",
    "    },\n",
    "    {\n",
    "        \"tag\": \"thanks\",\n",
    "        \"patterns\": [\"Thank you\", \"Thanks\", \"Thanks a lot\", \"I appreciate it\",\"It means a lot\"],\n",
    "        \"responses\": [\"You're welcome\", \"No problem\", \"Glad I could help\"]\n",
    "    },\n",
    "    {\n",
    "        \"tag\": \"About chatbot\",\n",
    "        \"patterns\": [\"What can you do\", \"Who are you\", \"What are you\", \"What is your purpose\"],\n",
    "        \"responses\": [\"I am a chatbot\", \"My purpose is to assist you\", \"I can answer questions and provide assistance\"]\n",
    "    },\n",
    "    {\n",
    "        \"tag\": \"help\",\n",
    "        \"patterns\": [\"Help\", \"I need help\", \"Can you help me\", \"What should I do\"],\n",
    "        \"responses\": [\"Sure, what do you need help with?\", \"I'm here to help. What's the problem?\", \"How can I assist you?\"]\n",
    "    },\n",
    " ]\n"
   ]
  },
  {
   "cell_type": "code",
   "execution_count": 57,
   "metadata": {},
   "outputs": [
    {
     "name": "stdout",
     "output_type": "stream",
     "text": [
      "Hi there\n"
     ]
    }
   ],
   "source": [
    "a1=chatbot(\"hi\")\n",
    "print(a1)"
   ]
  }
 ],
 "metadata": {
  "kernelspec": {
   "display_name": "base",
   "language": "python",
   "name": "python3"
  },
  "language_info": {
   "codemirror_mode": {
    "name": "ipython",
    "version": 3
   },
   "file_extension": ".py",
   "mimetype": "text/x-python",
   "name": "python",
   "nbconvert_exporter": "python",
   "pygments_lexer": "ipython3",
   "version": "3.12.7"
  }
 },
 "nbformat": 4,
 "nbformat_minor": 2
}
